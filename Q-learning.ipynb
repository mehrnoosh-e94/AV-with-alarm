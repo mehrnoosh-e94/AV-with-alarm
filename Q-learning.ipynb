{
 "cells": [
  {
   "cell_type": "code",
   "execution_count": 1,
   "id": "68741d4b-9ca8-4a01-bef0-60254e8a6ae5",
   "metadata": {},
   "outputs": [],
   "source": [
    "import numpy as np\n",
    "import random\n",
    "import matplotlib.pyplot as plt\n",
    "from tqdm import tqdm\n",
    "\n",
    "import variables as var\n",
    "import qlearning as ql\n",
    "import state as st\n",
    "import io as io"
   ]
  },
  {
   "cell_type": "code",
   "execution_count": 2,
   "id": "dc18e39d-7d0c-48bd-99fc-cdf043a4fa14",
   "metadata": {},
   "outputs": [],
   "source": [
    "T_Y = var.T_Y\n",
    "T_G = var.T_G\n",
    "T_R = var.T_R\n",
    "total_T = T_Y + T_G + T_R\n",
    "\n",
    "d_lower = var.d_lower\n",
    "d_upper = var.d_upper\n",
    "v_lower = var.v_lower\n",
    "v_upper = var.v_upper\n",
    "\n",
    "delta_t = var.delta_t\n",
    "\n",
    "phi_to_T_dict = {'Y': T_Y, 'G': T_G, 'R': T_R}\n",
    "phi_to_next_phi_dict = {'G':'Y', 'Y':'R', 'R':'G'}\n",
    "phi_prev_phi_dict = var.phi_prev_phi_dict\n",
    "#(0.4, 0.1, 0.05)\n",
    "std_d= 0.4#var.std_d\n",
    "std_v= 0.1#var.std_v\n",
    "std_t_phi= 0.05#var.std_t_phi\n",
    "\n",
    "trials = 50000000#var.trials\n",
    "episodes = var.episodes\n",
    "\n",
    "learning_rate = 0.001#var.learning_rate\n",
    "discount_factor = 0.95#var.discount_factor\n",
    "epsilon = var.epsilon\n",
    "\n",
    "actions = var.actions\n",
    "discrete_d = var.discrete_d\n",
    "v_max= var.v_max\n",
    "discrete_v = var.discrete_v\n",
    "discrete_phi_t = var.discrete_phi_t\n",
    "# Q_table = var.Q_table\n"
   ]
  },
  {
   "cell_type": "code",
   "execution_count": 3,
   "id": "29d9a36d-a16d-48a5-b303-e776beaeba08",
   "metadata": {},
   "outputs": [
    {
     "name": "stderr",
     "output_type": "stream",
     "text": [
      "  0%|          | 6322/50000000 [00:08<19:05:43, 727.25it/s]\n"
     ]
    },
    {
     "ename": "KeyboardInterrupt",
     "evalue": "",
     "output_type": "error",
     "traceback": [
      "\u001b[0;31m---------------------------------------------------------------------------\u001b[0m",
      "\u001b[0;31mKeyboardInterrupt\u001b[0m                         Traceback (most recent call last)",
      "\u001b[0;32m<ipython-input-3-009f1e06f351>\u001b[0m in \u001b[0;36m<module>\u001b[0;34m\u001b[0m\n\u001b[1;32m     16\u001b[0m             \u001b[0;32mbreak\u001b[0m\u001b[0;34m\u001b[0m\u001b[0;34m\u001b[0m\u001b[0m\n\u001b[1;32m     17\u001b[0m \u001b[0;34m\u001b[0m\u001b[0m\n\u001b[0;32m---> 18\u001b[0;31m         \u001b[0maction\u001b[0m\u001b[0;34m,\u001b[0m \u001b[0maction_idx\u001b[0m \u001b[0;34m=\u001b[0m \u001b[0mql\u001b[0m\u001b[0;34m.\u001b[0m\u001b[0maction_selection\u001b[0m\u001b[0;34m(\u001b[0m\u001b[0mQ_table\u001b[0m\u001b[0;34m[\u001b[0m\u001b[0midx_i\u001b[0m\u001b[0;34m]\u001b[0m\u001b[0;34m,\u001b[0m \u001b[0mvelocity\u001b[0m\u001b[0;34m,\u001b[0m \u001b[0mactions\u001b[0m\u001b[0;34m,\u001b[0m \u001b[0mepsilon\u001b[0m\u001b[0;34m,\u001b[0m \u001b[0mv_max\u001b[0m\u001b[0;34m,\u001b[0m\u001b[0;36m1\u001b[0m\u001b[0;34m)\u001b[0m\u001b[0;34m\u001b[0m\u001b[0;34m\u001b[0m\u001b[0m\n\u001b[0m\u001b[1;32m     19\u001b[0m         \u001b[0mq\u001b[0m \u001b[0;34m=\u001b[0m \u001b[0mQ_table\u001b[0m\u001b[0;34m[\u001b[0m\u001b[0midx_i\u001b[0m\u001b[0;34m,\u001b[0m \u001b[0maction_idx\u001b[0m\u001b[0;34m]\u001b[0m\u001b[0;34m\u001b[0m\u001b[0;34m\u001b[0m\u001b[0m\n\u001b[1;32m     20\u001b[0m \u001b[0;34m\u001b[0m\u001b[0m\n",
      "\u001b[0;32m~/ondemand/data/AV-with-alarm/qlearning.py\u001b[0m in \u001b[0;36maction_selection\u001b[0;34m(Q_row, velocity, actions, epsilon, v_max, training)\u001b[0m\n\u001b[1;32m     97\u001b[0m     \u001b[0;32mif\u001b[0m \u001b[0mrand\u001b[0m\u001b[0;34m>=\u001b[0m\u001b[0mepsilon\u001b[0m\u001b[0;34m:\u001b[0m\u001b[0;34m\u001b[0m\u001b[0;34m\u001b[0m\u001b[0m\n\u001b[1;32m     98\u001b[0m \u001b[0;31m#         print('rand>epsilon')\u001b[0m\u001b[0;34m\u001b[0m\u001b[0;34m\u001b[0m\u001b[0;34m\u001b[0m\u001b[0m\n\u001b[0;32m---> 99\u001b[0;31m         \u001b[0mcandidates\u001b[0m \u001b[0;34m=\u001b[0m \u001b[0;34m[\u001b[0m\u001b[0mi\u001b[0m \u001b[0;32mfor\u001b[0m \u001b[0mi\u001b[0m\u001b[0;34m,\u001b[0m \u001b[0mx\u001b[0m \u001b[0;32min\u001b[0m \u001b[0menumerate\u001b[0m\u001b[0;34m(\u001b[0m\u001b[0mQ_row\u001b[0m\u001b[0;34m.\u001b[0m\u001b[0mflatten\u001b[0m\u001b[0;34m(\u001b[0m\u001b[0;34m)\u001b[0m\u001b[0;34m[\u001b[0m\u001b[0mfeasible_index\u001b[0m\u001b[0;34m]\u001b[0m\u001b[0;34m)\u001b[0m \u001b[0;32mif\u001b[0m \u001b[0mx\u001b[0m \u001b[0;34m==\u001b[0m \u001b[0mnp\u001b[0m\u001b[0;34m.\u001b[0m\u001b[0mmax\u001b[0m\u001b[0;34m(\u001b[0m\u001b[0mQ_row\u001b[0m\u001b[0;34m.\u001b[0m\u001b[0mflatten\u001b[0m\u001b[0;34m(\u001b[0m\u001b[0;34m)\u001b[0m\u001b[0;34m[\u001b[0m\u001b[0mfeasible_index\u001b[0m\u001b[0;34m]\u001b[0m\u001b[0;34m)\u001b[0m\u001b[0;34m]\u001b[0m\u001b[0;34m\u001b[0m\u001b[0;34m\u001b[0m\u001b[0m\n\u001b[0m\u001b[1;32m    100\u001b[0m \u001b[0;31m#         print(f'candidate index: {candidates}')\u001b[0m\u001b[0;34m\u001b[0m\u001b[0;34m\u001b[0m\u001b[0;34m\u001b[0m\u001b[0m\n\u001b[1;32m    101\u001b[0m \u001b[0;34m\u001b[0m\u001b[0m\n",
      "\u001b[0;32m~/ondemand/data/AV-with-alarm/qlearning.py\u001b[0m in \u001b[0;36m<listcomp>\u001b[0;34m(.0)\u001b[0m\n\u001b[1;32m     97\u001b[0m     \u001b[0;32mif\u001b[0m \u001b[0mrand\u001b[0m\u001b[0;34m>=\u001b[0m\u001b[0mepsilon\u001b[0m\u001b[0;34m:\u001b[0m\u001b[0;34m\u001b[0m\u001b[0;34m\u001b[0m\u001b[0m\n\u001b[1;32m     98\u001b[0m \u001b[0;31m#         print('rand>epsilon')\u001b[0m\u001b[0;34m\u001b[0m\u001b[0;34m\u001b[0m\u001b[0;34m\u001b[0m\u001b[0m\n\u001b[0;32m---> 99\u001b[0;31m         \u001b[0mcandidates\u001b[0m \u001b[0;34m=\u001b[0m \u001b[0;34m[\u001b[0m\u001b[0mi\u001b[0m \u001b[0;32mfor\u001b[0m \u001b[0mi\u001b[0m\u001b[0;34m,\u001b[0m \u001b[0mx\u001b[0m \u001b[0;32min\u001b[0m \u001b[0menumerate\u001b[0m\u001b[0;34m(\u001b[0m\u001b[0mQ_row\u001b[0m\u001b[0;34m.\u001b[0m\u001b[0mflatten\u001b[0m\u001b[0;34m(\u001b[0m\u001b[0;34m)\u001b[0m\u001b[0;34m[\u001b[0m\u001b[0mfeasible_index\u001b[0m\u001b[0;34m]\u001b[0m\u001b[0;34m)\u001b[0m \u001b[0;32mif\u001b[0m \u001b[0mx\u001b[0m \u001b[0;34m==\u001b[0m \u001b[0mnp\u001b[0m\u001b[0;34m.\u001b[0m\u001b[0mmax\u001b[0m\u001b[0;34m(\u001b[0m\u001b[0mQ_row\u001b[0m\u001b[0;34m.\u001b[0m\u001b[0mflatten\u001b[0m\u001b[0;34m(\u001b[0m\u001b[0;34m)\u001b[0m\u001b[0;34m[\u001b[0m\u001b[0mfeasible_index\u001b[0m\u001b[0;34m]\u001b[0m\u001b[0;34m)\u001b[0m\u001b[0;34m]\u001b[0m\u001b[0;34m\u001b[0m\u001b[0;34m\u001b[0m\u001b[0m\n\u001b[0m\u001b[1;32m    100\u001b[0m \u001b[0;31m#         print(f'candidate index: {candidates}')\u001b[0m\u001b[0;34m\u001b[0m\u001b[0;34m\u001b[0m\u001b[0;34m\u001b[0m\u001b[0m\n\u001b[1;32m    101\u001b[0m \u001b[0;34m\u001b[0m\u001b[0m\n",
      "\u001b[0;32m<__array_function__ internals>\u001b[0m in \u001b[0;36mamax\u001b[0;34m(*args, **kwargs)\u001b[0m\n",
      "\u001b[0;31mKeyboardInterrupt\u001b[0m: "
     ]
    }
   ],
   "source": [
    "Q_table = np.zeros((len(discrete_d)*len(discrete_v)*len(discrete_phi_t), len(actions)))\n",
    "np.random.seed()\n",
    "accum_rewards = []\n",
    "prev_action = 0\n",
    "for trial in tqdm(range(trials)):\n",
    "#     state = func.random_init_state(d_lower, d_upper, v_lower, v_upper, T_Y, T_G, T_R)\n",
    "#     idx_i = func.map_state_to_idx(state, discrete_d, discrete_v, discrete_phi_t, T_Y, T_R)\n",
    "    idx_i = np.random.randint(0, Q_table.shape[0], 1)\n",
    "    state = st.map_idx_to_state(idx_i, discrete_d, discrete_v, discrete_phi_t)\n",
    "    distance = state[0]\n",
    "    velocity = state[1]\n",
    "    accum_r = 0\n",
    "    for episode in range(episodes):\n",
    "        \n",
    "        if distance<=0:\n",
    "            break\n",
    "        \n",
    "        action, action_idx = ql.action_selection(Q_table[idx_i], velocity, actions, epsilon, v_max,1)\n",
    "        q = Q_table[idx_i, action_idx]\n",
    "        \n",
    "        state_new = st.update_state(state, action, delta_t, phi_to_T_dict, phi_to_next_phi_dict, std_d, std_v, std_t_phi,1)\n",
    "        idx_i_new = st.map_state_to_idx(state_new, discrete_d, discrete_v, discrete_phi_t, T_Y, T_R, phi_prev_phi_dict)\n",
    "#         mapped_state= func.map_idx_to_state(idx_i_new, discrete_d, discrete_v, discrete_phi_t)\n",
    "        distance = state_new[0]\n",
    "        velocity = state_new[1]\n",
    "        phi = state_new[2]\n",
    "        t_phi = state_new[3]\n",
    "        \n",
    "        reward = ql.reward_function_smooth(distance, velocity, phi, t_phi, prev_action, action, v_max, T_Y)\n",
    "        prev_action = action\n",
    "        \n",
    "        td = ql.TD_function(reward, discount_factor, Q_table[idx_i_new], q)\n",
    "        \n",
    "        q = q + learning_rate*td\n",
    "        Q_table[idx_i,action_idx] = q\n",
    "        \n",
    "        idx_i = idx_i_new\n",
    "        state = state_new\n",
    "        \n",
    "        if trial%10000==0:\n",
    "#             print(reward)\n",
    "            accum_r+=reward\n",
    "    \n",
    "    if accum_r!=0:\n",
    "        accum_rewards.append(accum_r)\n",
    "        \n",
    "io.write_list(accum_rewards, 'QLearning_accum_reward')\n",
    "with open('Q_table.npy','wb') as f:\n",
    "    np.save(f, Q_table)"
   ]
  },
  {
   "cell_type": "code",
   "execution_count": null,
   "id": "a1e1ff89-fd59-4866-974f-66dea207ca81",
   "metadata": {},
   "outputs": [],
   "source": []
  }
 ],
 "metadata": {
  "kernelspec": {
   "display_name": "Python 3",
   "language": "python",
   "name": "python3"
  },
  "language_info": {
   "codemirror_mode": {
    "name": "ipython",
    "version": 3
   },
   "file_extension": ".py",
   "mimetype": "text/x-python",
   "name": "python",
   "nbconvert_exporter": "python",
   "pygments_lexer": "ipython3",
   "version": "3.8.8"
  }
 },
 "nbformat": 4,
 "nbformat_minor": 5
}
