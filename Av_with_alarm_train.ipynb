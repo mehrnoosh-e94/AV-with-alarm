{
 "cells": [
  {
   "cell_type": "code",
   "execution_count": 1,
   "id": "fc47b41b-b273-4dae-af14-cca352f3ab5b",
   "metadata": {},
   "outputs": [],
   "source": [
    "import numpy as np\n",
    "import random\n",
    "from scipy.stats import norm\n",
    "import matplotlib.pyplot as plt\n",
    "import statistics\n",
    "import math\n",
    "import pickle\n",
    "from tqdm import tqdm\n",
    "import collections\n",
    "from operator import add\n",
    "import pandas as pd\n",
    "import copy\n",
    "from matplotlib.lines import Line2D\n",
    "\n",
    "import state as st\n",
    "import particles as ps\n",
    "import qlearning as ql\n",
    "import alarm_system as alarm\n",
    "import plot as myplt\n",
    "import in_out as io\n",
    "import variables as var"
   ]
  },
  {
   "cell_type": "code",
   "execution_count": 2,
   "id": "77fc492e-c14f-407d-9244-a7bec2a968cb",
   "metadata": {},
   "outputs": [],
   "source": [
    "T_Y = var.T_Y\n",
    "T_G = var.T_G\n",
    "T_R = var.T_R\n",
    "total_T = T_Y + T_G + T_R\n",
    "\n",
    "d_lower = var.d_lower\n",
    "d_upper = var.d_upper\n",
    "v_lower = var.v_lower\n",
    "v_upper = var.v_upper\n",
    "\n",
    "delta_t = var.delta_t\n",
    "\n",
    "phi_list = var.phi_list\n",
    "phi_T_dict = var.phi_T_dict\n",
    "phi_next_phi_dict = var.phi_next_phi_dict\n",
    "phi_prev_phi_dict = var.phi_prev_phi_dict\n",
    "# std_d=var.std_d\n",
    "# std_v=var.std_v\n",
    "# std_t_phi=var.std_t_phi\n",
    "std_d=0.4#0.005\n",
    "std_v=0.1#0.001\n",
    "std_t_phi=0.05#0.001\n",
    "\n",
    "\n",
    "std_d_m=0.8#0.02#var.std_d_m\n",
    "std_v_m=0.2#0.004#var.std_v_m\n",
    "phi_obs_prob = 0.99999#var.phi_obs_prob\n",
    "max_phi_prob = var.max_phi_prob\n",
    "min_phi_prob = var.min_phi_prob\n",
    "\n",
    "trials = var.trials\n",
    "episodes = var.episodes\n",
    "N =var.N\n",
    "\n",
    "learning_rate = var.learning_rate\n",
    "discount_factor = var.discount_factor\n",
    "# epsilon = 0\n",
    "\n",
    "actions = var.actions\n",
    "discrete_d = var.discrete_d\n",
    "v_max= var.v_max\n",
    "discrete_v = var.discrete_v\n",
    "\n",
    "discrete_phi_t = var.discrete_phi_t\n",
    "\n",
    "v_eps = var.v_eps\n",
    "\n",
    "# alpha_t_phi = var.alpha_t_phi\n",
    "t_phi_margin = var.t_phi_margin\n",
    "\n",
    "phi_thre = var.phi_thre\n",
    "\n",
    "alarm_thre_list = var.alarm_thre_list\n",
    "\n",
    "critical_d_list= var.critical_d_list\n",
    "\n",
    "alpha_N = var.alpha_N\n",
    "alarm_thre=var.alarm_thre\n",
    "deceleration_a=var.deceleration_a\n",
    "\n",
    "traj_count = 100\n",
    "rounds=10\n",
    "\n",
    "critical_d_list=var.critical_d_list\n",
    "t_phi_margin_list=var.t_phi_margin_list\n",
    "alpha_N_list=var.alpha_N_list"
   ]
  },
  {
   "cell_type": "code",
   "execution_count": 3,
   "id": "39f6d5a9-c61c-4acf-9d26-55bfe07a4780",
   "metadata": {},
   "outputs": [],
   "source": [
    "# init_states = []\n",
    "\n",
    "# for i in tqdm(range(traj_count)):\n",
    "#     init_state = st.random_init_state(d_lower, d_upper, v_lower, v_upper, T_Y, T_G, T_R)\n",
    "#     init_states.append(init_state)\n",
    "    \n",
    "# func.write_list(init_states, 'alarm_system_init_states')\n",
    "\n",
    "init_states = io.read_list('alarm_system_init_states')"
   ]
  },
  {
   "cell_type": "code",
   "execution_count": 4,
   "id": "2f09223f-aa01-4d6a-815c-af86a2a2cbd0",
   "metadata": {},
   "outputs": [
    {
     "name": "stdout",
     "output_type": "stream",
     "text": [
      "Percentage of non-zero elements in Qtable:0.8906302521008403\n"
     ]
    }
   ],
   "source": [
    "with open('Q_table.npy','rb') as f:\n",
    "    Q_table = np.load(f)\n",
    "print(f'Percentage of non-zero elements in Qtable:{len(Q_table[Q_table!=0])/(Q_table.shape[0]*Q_table.shape[1])}')"
   ]
  },
  {
   "cell_type": "code",
   "execution_count": null,
   "id": "6db84722-67dc-4948-ab66-e0c4b952ded5",
   "metadata": {
    "tags": []
   },
   "outputs": [],
   "source": [
    "file_root='./alarms/dvphi/'\n",
    "observ_mode='dvphi'\n",
    "for uncertainty_aware in [0]:\n",
    "    for epsilon in [0.0]:\n",
    "        alarm.AV_with_alarm(file_root, N, Q_table, init_states, uncertainty_aware, observ_mode, delta_t, actions, deceleration_a, critical_d_list, t_phi_margin_list, alpha_N_list, v_max, rounds, epsilon, traj_count, std_d, std_v, std_t_phi, std_d_m, std_v_m, phi_obs_prob, max_phi_prob, min_phi_prob,\\\n",
    "                 d_lower, d_upper, v_lower, v_upper, T_Y, T_G, T_R, discrete_d, discrete_v, discrete_phi_t, phi_list, phi_prev_phi_dict, phi_T_dict, phi_next_phi_dict)\n"
   ]
  },
  {
   "cell_type": "code",
   "execution_count": null,
   "id": "3e4ff0cd-50a6-4a2d-9f3a-edbbb0d918a8",
   "metadata": {},
   "outputs": [],
   "source": []
  }
 ],
 "metadata": {
  "kernelspec": {
   "display_name": "Python 3",
   "language": "python",
   "name": "python3"
  },
  "language_info": {
   "codemirror_mode": {
    "name": "ipython",
    "version": 3
   },
   "file_extension": ".py",
   "mimetype": "text/x-python",
   "name": "python",
   "nbconvert_exporter": "python",
   "pygments_lexer": "ipython3",
   "version": "3.8.8"
  }
 },
 "nbformat": 4,
 "nbformat_minor": 5
}
